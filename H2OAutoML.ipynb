{
  "nbformat": 4,
  "nbformat_minor": 0,
  "metadata": {
    "colab": {
      "name": "H2OAutoML.ipynb",
      "provenance": [],
      "collapsed_sections": [],
      "authorship_tag": "ABX9TyMTl0WrnF5Nj30i7K2iW0Kj",
      "include_colab_link": true
    },
    "kernelspec": {
      "name": "python3",
      "display_name": "Python 3"
    }
  },
  "cells": [
    {
      "cell_type": "markdown",
      "metadata": {
        "id": "view-in-github",
        "colab_type": "text"
      },
      "source": [
        "<a href=\"https://colab.research.google.com/github/dhamvi01/Classification-with-H20-AutoML/blob/main/H2OAutoML.ipynb\" target=\"_parent\"><img src=\"https://colab.research.google.com/assets/colab-badge.svg\" alt=\"Open In Colab\"/></a>"
      ]
    },
    {
      "cell_type": "markdown",
      "metadata": {
        "id": "5LI5CF4aZT_p"
      },
      "source": [
        "#### 1. Import Libraries"
      ]
    },
    {
      "cell_type": "code",
      "metadata": {
        "id": "dzsBEjjWQP9Q"
      },
      "source": [
        "###!pip install h2o\n",
        "import pandas as pd\n",
        "import h2o\n",
        "from h2o.automl import H2OAutoML"
      ],
      "execution_count": null,
      "outputs": []
    },
    {
      "cell_type": "markdown",
      "metadata": {
        "id": "l18k8DspZZ5v"
      },
      "source": [
        "#### 2. Initiate h2o instance"
      ]
    },
    {
      "cell_type": "code",
      "metadata": {
        "colab": {
          "base_uri": "https://localhost:8080/",
          "height": 526
        },
        "id": "LYjmvwGvSyWG",
        "outputId": "bc7961dc-a07b-43a3-e1c7-63097a357f94"
      },
      "source": [
        "h2o.init()"
      ],
      "execution_count": null,
      "outputs": [
        {
          "output_type": "stream",
          "text": [
            "Checking whether there is an H2O instance running at http://localhost:54321 ..... not found.\n",
            "Attempting to start a local H2O server...\n",
            "  Java Version: openjdk version \"11.0.9.1\" 2020-11-04; OpenJDK Runtime Environment (build 11.0.9.1+1-Ubuntu-0ubuntu1.18.04); OpenJDK 64-Bit Server VM (build 11.0.9.1+1-Ubuntu-0ubuntu1.18.04, mixed mode, sharing)\n",
            "  Starting server from /usr/local/lib/python3.6/dist-packages/h2o/backend/bin/h2o.jar\n",
            "  Ice root: /tmp/tmps5lcngu7\n",
            "  JVM stdout: /tmp/tmps5lcngu7/h2o_unknownUser_started_from_python.out\n",
            "  JVM stderr: /tmp/tmps5lcngu7/h2o_unknownUser_started_from_python.err\n",
            "  Server is running at http://127.0.0.1:54321\n",
            "Connecting to H2O server at http://127.0.0.1:54321 ... successful.\n"
          ],
          "name": "stdout"
        },
        {
          "output_type": "display_data",
          "data": {
            "text/html": [
              "<div style=\"overflow:auto\"><table style=\"width:50%\"><tr><td>H2O_cluster_uptime:</td>\n",
              "<td>03 secs</td></tr>\n",
              "<tr><td>H2O_cluster_timezone:</td>\n",
              "<td>Etc/UTC</td></tr>\n",
              "<tr><td>H2O_data_parsing_timezone:</td>\n",
              "<td>UTC</td></tr>\n",
              "<tr><td>H2O_cluster_version:</td>\n",
              "<td>3.32.0.2</td></tr>\n",
              "<tr><td>H2O_cluster_version_age:</td>\n",
              "<td>14 days, 1 hour and 52 minutes </td></tr>\n",
              "<tr><td>H2O_cluster_name:</td>\n",
              "<td>H2O_from_python_unknownUser_13yacy</td></tr>\n",
              "<tr><td>H2O_cluster_total_nodes:</td>\n",
              "<td>1</td></tr>\n",
              "<tr><td>H2O_cluster_free_memory:</td>\n",
              "<td>3.180 Gb</td></tr>\n",
              "<tr><td>H2O_cluster_total_cores:</td>\n",
              "<td>2</td></tr>\n",
              "<tr><td>H2O_cluster_allowed_cores:</td>\n",
              "<td>2</td></tr>\n",
              "<tr><td>H2O_cluster_status:</td>\n",
              "<td>accepting new members, healthy</td></tr>\n",
              "<tr><td>H2O_connection_url:</td>\n",
              "<td>http://127.0.0.1:54321</td></tr>\n",
              "<tr><td>H2O_connection_proxy:</td>\n",
              "<td>{\"http\": null, \"https\": null}</td></tr>\n",
              "<tr><td>H2O_internal_security:</td>\n",
              "<td>False</td></tr>\n",
              "<tr><td>H2O_API_Extensions:</td>\n",
              "<td>Amazon S3, XGBoost, Algos, AutoML, Core V3, TargetEncoder, Core V4</td></tr>\n",
              "<tr><td>Python_version:</td>\n",
              "<td>3.6.9 final</td></tr></table></div>"
            ],
            "text/plain": [
              "--------------------------  ------------------------------------------------------------------\n",
              "H2O_cluster_uptime:         03 secs\n",
              "H2O_cluster_timezone:       Etc/UTC\n",
              "H2O_data_parsing_timezone:  UTC\n",
              "H2O_cluster_version:        3.32.0.2\n",
              "H2O_cluster_version_age:    14 days, 1 hour and 52 minutes\n",
              "H2O_cluster_name:           H2O_from_python_unknownUser_13yacy\n",
              "H2O_cluster_total_nodes:    1\n",
              "H2O_cluster_free_memory:    3.180 Gb\n",
              "H2O_cluster_total_cores:    2\n",
              "H2O_cluster_allowed_cores:  2\n",
              "H2O_cluster_status:         accepting new members, healthy\n",
              "H2O_connection_url:         http://127.0.0.1:54321\n",
              "H2O_connection_proxy:       {\"http\": null, \"https\": null}\n",
              "H2O_internal_security:      False\n",
              "H2O_API_Extensions:         Amazon S3, XGBoost, Algos, AutoML, Core V3, TargetEncoder, Core V4\n",
              "Python_version:             3.6.9 final\n",
              "--------------------------  ------------------------------------------------------------------"
            ]
          },
          "metadata": {
            "tags": []
          }
        }
      ]
    },
    {
      "cell_type": "markdown",
      "metadata": {
        "id": "z6P37xhGZgmf"
      },
      "source": [
        "#### 3. Import Raw data"
      ]
    },
    {
      "cell_type": "code",
      "metadata": {
        "colab": {
          "base_uri": "https://localhost:8080/"
        },
        "id": "EimqPp0tQfnV",
        "outputId": "be0ec28e-376f-43bc-dd17-ce747d2d65f2"
      },
      "source": [
        "data = h2o.import_file('Iris.csv')"
      ],
      "execution_count": null,
      "outputs": [
        {
          "output_type": "stream",
          "text": [
            "Parse progress: |█████████████████████████████████████████████████████████| 100%\n"
          ],
          "name": "stdout"
        }
      ]
    },
    {
      "cell_type": "code",
      "metadata": {
        "id": "1yi4k4fmVBNw"
      },
      "source": [
        "features = ['PetalWidthCm', 'PetalLengthCm', 'SepalWidthCm', 'SepalLengthCm']\n",
        "output = 'Species'"
      ],
      "execution_count": null,
      "outputs": []
    },
    {
      "cell_type": "markdown",
      "metadata": {
        "id": "L1utmi8VZnOv"
      },
      "source": [
        "#### 4. Train Test split"
      ]
    },
    {
      "cell_type": "code",
      "metadata": {
        "id": "adtkD-s7Rvm2"
      },
      "source": [
        "train, test = data.split_frame(ratios=[0.8])"
      ],
      "execution_count": null,
      "outputs": []
    },
    {
      "cell_type": "markdown",
      "metadata": {
        "id": "zIjg7hd2ZuNX"
      },
      "source": [
        "#### 5. model building"
      ]
    },
    {
      "cell_type": "code",
      "metadata": {
        "colab": {
          "base_uri": "https://localhost:8080/"
        },
        "id": "5qwQ3diuTcKt",
        "outputId": "47299b72-3f64-4940-dddd-9dce0ba8ed48"
      },
      "source": [
        "aml = H2OAutoML(max_models = 30, max_runtime_secs=300, seed = 1)\n",
        "aml.train(x = features, y = output, training_frame = train)"
      ],
      "execution_count": null,
      "outputs": [
        {
          "output_type": "stream",
          "text": [
            "AutoML progress: |███████████\n",
            "17:32:11.665: Skipping training of model GBM_5_AutoML_20201201_173151 due to exception: water.exceptions.H2OModelBuilderIllegalArgumentException: Illegal argument(s) for GBM model: GBM_5_AutoML_20201201_173151.  Details: ERRR on field: _min_rows: The dataset size is too small to split for min_rows=100.0: must have at least 200.0 (weighted) rows, but have only 121.0.\n",
            "\n",
            "\n",
            "█████████████████████████████████████████████| 100%\n"
          ],
          "name": "stdout"
        }
      ]
    },
    {
      "cell_type": "markdown",
      "metadata": {
        "id": "5iopml2IZ2iI"
      },
      "source": [
        "#### 6. Model leaderboard"
      ]
    },
    {
      "cell_type": "code",
      "metadata": {
        "colab": {
          "base_uri": "https://localhost:8080/",
          "height": 678
        },
        "id": "gt8_cmi8TcoE",
        "outputId": "2f2d5c19-ae6a-4781-936d-1967c371701d"
      },
      "source": [
        "lb = aml.leaderboard\n",
        "lb.head(rows=lb.nrows)"
      ],
      "execution_count": null,
      "outputs": [
        {
          "output_type": "display_data",
          "data": {
            "text/html": [
              "<table>\n",
              "<thead>\n",
              "<tr><th>model_id                                           </th><th style=\"text-align: right;\">  mean_per_class_error</th><th style=\"text-align: right;\">  logloss</th><th style=\"text-align: right;\">    rmse</th><th style=\"text-align: right;\">      mse</th></tr>\n",
              "</thead>\n",
              "<tbody>\n",
              "<tr><td>GLM_1_AutoML_20201201_173151                       </td><td style=\"text-align: right;\">             0.0259259</td><td style=\"text-align: right;\">0.0864929</td><td style=\"text-align: right;\">0.166503</td><td style=\"text-align: right;\">0.0277232</td></tr>\n",
              "<tr><td>DeepLearning_grid__2_AutoML_20201201_173151_model_1</td><td style=\"text-align: right;\">             0.037037 </td><td style=\"text-align: right;\">0.307738 </td><td style=\"text-align: right;\">0.186924</td><td style=\"text-align: right;\">0.0349405</td></tr>\n",
              "<tr><td>GBM_4_AutoML_20201201_173151                       </td><td style=\"text-align: right;\">             0.05     </td><td style=\"text-align: right;\">0.171523 </td><td style=\"text-align: right;\">0.20693 </td><td style=\"text-align: right;\">0.0428201</td></tr>\n",
              "<tr><td>GBM_grid__1_AutoML_20201201_173151_model_4         </td><td style=\"text-align: right;\">             0.05     </td><td style=\"text-align: right;\">0.154261 </td><td style=\"text-align: right;\">0.197679</td><td style=\"text-align: right;\">0.0390772</td></tr>\n",
              "<tr><td>XGBoost_3_AutoML_20201201_173151                   </td><td style=\"text-align: right;\">             0.05     </td><td style=\"text-align: right;\">0.174124 </td><td style=\"text-align: right;\">0.204071</td><td style=\"text-align: right;\">0.0416449</td></tr>\n",
              "<tr><td>XRT_1_AutoML_20201201_173151                       </td><td style=\"text-align: right;\">             0.05     </td><td style=\"text-align: right;\">0.119105 </td><td style=\"text-align: right;\">0.196525</td><td style=\"text-align: right;\">0.038622 </td></tr>\n",
              "<tr><td>XGBoost_1_AutoML_20201201_173151                   </td><td style=\"text-align: right;\">             0.05     </td><td style=\"text-align: right;\">0.222231 </td><td style=\"text-align: right;\">0.229423</td><td style=\"text-align: right;\">0.0526349</td></tr>\n",
              "<tr><td>GBM_grid__1_AutoML_20201201_173151_model_3         </td><td style=\"text-align: right;\">             0.05     </td><td style=\"text-align: right;\">0.181557 </td><td style=\"text-align: right;\">0.21481 </td><td style=\"text-align: right;\">0.0461432</td></tr>\n",
              "<tr><td>GBM_3_AutoML_20201201_173151                       </td><td style=\"text-align: right;\">             0.05     </td><td style=\"text-align: right;\">0.143403 </td><td style=\"text-align: right;\">0.19938 </td><td style=\"text-align: right;\">0.0397523</td></tr>\n",
              "<tr><td>StackedEnsemble_BestOfFamily_AutoML_20201201_173151</td><td style=\"text-align: right;\">             0.05     </td><td style=\"text-align: right;\">0.246054 </td><td style=\"text-align: right;\">0.238314</td><td style=\"text-align: right;\">0.0567935</td></tr>\n",
              "<tr><td>DRF_1_AutoML_20201201_173151                       </td><td style=\"text-align: right;\">             0.05     </td><td style=\"text-align: right;\">0.113627 </td><td style=\"text-align: right;\">0.19609 </td><td style=\"text-align: right;\">0.0384512</td></tr>\n",
              "<tr><td>XGBoost_grid__1_AutoML_20201201_173151_model_4     </td><td style=\"text-align: right;\">             0.05     </td><td style=\"text-align: right;\">0.171942 </td><td style=\"text-align: right;\">0.207741</td><td style=\"text-align: right;\">0.0431563</td></tr>\n",
              "<tr><td>StackedEnsemble_AllModels_AutoML_20201201_173151   </td><td style=\"text-align: right;\">             0.0518519</td><td style=\"text-align: right;\">0.230269 </td><td style=\"text-align: right;\">0.229603</td><td style=\"text-align: right;\">0.0527174</td></tr>\n",
              "<tr><td>DeepLearning_grid__1_AutoML_20201201_173151_model_1</td><td style=\"text-align: right;\">             0.0527778</td><td style=\"text-align: right;\">0.325077 </td><td style=\"text-align: right;\">0.216097</td><td style=\"text-align: right;\">0.046698 </td></tr>\n",
              "<tr><td>XGBoost_grid__1_AutoML_20201201_173151_model_8     </td><td style=\"text-align: right;\">             0.0574074</td><td style=\"text-align: right;\">0.223934 </td><td style=\"text-align: right;\">0.233842</td><td style=\"text-align: right;\">0.0546822</td></tr>\n",
              "<tr><td>XGBoost_grid__1_AutoML_20201201_173151_model_7     </td><td style=\"text-align: right;\">             0.0592593</td><td style=\"text-align: right;\">0.190391 </td><td style=\"text-align: right;\">0.215556</td><td style=\"text-align: right;\">0.0464643</td></tr>\n",
              "<tr><td>XGBoost_grid__1_AutoML_20201201_173151_model_3     </td><td style=\"text-align: right;\">             0.0592593</td><td style=\"text-align: right;\">0.24205  </td><td style=\"text-align: right;\">0.242448</td><td style=\"text-align: right;\">0.0587809</td></tr>\n",
              "<tr><td>GBM_1_AutoML_20201201_173151                       </td><td style=\"text-align: right;\">             0.0592593</td><td style=\"text-align: right;\">0.190724 </td><td style=\"text-align: right;\">0.221313</td><td style=\"text-align: right;\">0.0489795</td></tr>\n",
              "<tr><td>GBM_2_AutoML_20201201_173151                       </td><td style=\"text-align: right;\">             0.0592593</td><td style=\"text-align: right;\">0.162233 </td><td style=\"text-align: right;\">0.205332</td><td style=\"text-align: right;\">0.0421613</td></tr>\n",
              "<tr><td>DeepLearning_grid__3_AutoML_20201201_173151_model_1</td><td style=\"text-align: right;\">             0.0611111</td><td style=\"text-align: right;\">0.441451 </td><td style=\"text-align: right;\">0.227039</td><td style=\"text-align: right;\">0.0515468</td></tr>\n",
              "<tr><td>GBM_grid__1_AutoML_20201201_173151_model_5         </td><td style=\"text-align: right;\">             0.0611111</td><td style=\"text-align: right;\">0.19793  </td><td style=\"text-align: right;\">0.22512 </td><td style=\"text-align: right;\">0.0506789</td></tr>\n",
              "<tr><td>XGBoost_grid__1_AutoML_20201201_173151_model_1     </td><td style=\"text-align: right;\">             0.0666667</td><td style=\"text-align: right;\">0.182806 </td><td style=\"text-align: right;\">0.21648 </td><td style=\"text-align: right;\">0.0468635</td></tr>\n",
              "<tr><td>GBM_grid__1_AutoML_20201201_173151_model_2         </td><td style=\"text-align: right;\">             0.0685185</td><td style=\"text-align: right;\">0.182174 </td><td style=\"text-align: right;\">0.215315</td><td style=\"text-align: right;\">0.0463605</td></tr>\n",
              "<tr><td>XGBoost_grid__1_AutoML_20201201_173151_model_2     </td><td style=\"text-align: right;\">             0.0833333</td><td style=\"text-align: right;\">0.460182 </td><td style=\"text-align: right;\">0.374698</td><td style=\"text-align: right;\">0.140399 </td></tr>\n",
              "<tr><td>XGBoost_2_AutoML_20201201_173151                   </td><td style=\"text-align: right;\">             0.112963 </td><td style=\"text-align: right;\">0.456412 </td><td style=\"text-align: right;\">0.374384</td><td style=\"text-align: right;\">0.140164 </td></tr>\n",
              "<tr><td>DeepLearning_1_AutoML_20201201_173151              </td><td style=\"text-align: right;\">             0.119444 </td><td style=\"text-align: right;\">0.266767 </td><td style=\"text-align: right;\">0.284622</td><td style=\"text-align: right;\">0.0810094</td></tr>\n",
              "<tr><td>XGBoost_grid__1_AutoML_20201201_173151_model_5     </td><td style=\"text-align: right;\">             0.124074 </td><td style=\"text-align: right;\">0.481822 </td><td style=\"text-align: right;\">0.388941</td><td style=\"text-align: right;\">0.151275 </td></tr>\n",
              "<tr><td>XGBoost_grid__1_AutoML_20201201_173151_model_9     </td><td style=\"text-align: right;\">             0.278704 </td><td style=\"text-align: right;\">0.603834 </td><td style=\"text-align: right;\">0.453434</td><td style=\"text-align: right;\">0.205602 </td></tr>\n",
              "<tr><td>DeepLearning_grid__1_AutoML_20201201_173151_model_2</td><td style=\"text-align: right;\">             0.296296 </td><td style=\"text-align: right;\">1.03554  </td><td style=\"text-align: right;\">0.485345</td><td style=\"text-align: right;\">0.23556  </td></tr>\n",
              "<tr><td>DeepLearning_grid__3_AutoML_20201201_173151_model_2</td><td style=\"text-align: right;\">             0.303704 </td><td style=\"text-align: right;\">1.88374  </td><td style=\"text-align: right;\">0.500476</td><td style=\"text-align: right;\">0.250477 </td></tr>\n",
              "<tr><td>DeepLearning_grid__2_AutoML_20201201_173151_model_2</td><td style=\"text-align: right;\">             0.333333 </td><td style=\"text-align: right;\">2.16258  </td><td style=\"text-align: right;\">0.531193</td><td style=\"text-align: right;\">0.282166 </td></tr>\n",
              "<tr><td>XGBoost_grid__1_AutoML_20201201_173151_model_6     </td><td style=\"text-align: right;\">             0.666667 </td><td style=\"text-align: right;\">1.09453  </td><td style=\"text-align: right;\">0.664797</td><td style=\"text-align: right;\">0.441955 </td></tr>\n",
              "</tbody>\n",
              "</table>"
            ]
          },
          "metadata": {
            "tags": []
          }
        },
        {
          "output_type": "execute_result",
          "data": {
            "text/plain": [
              ""
            ]
          },
          "metadata": {
            "tags": []
          },
          "execution_count": 9
        }
      ]
    },
    {
      "cell_type": "markdown",
      "metadata": {
        "id": "BJLFeC3pZ9bL"
      },
      "source": [
        "#### 7. Predicted Values"
      ]
    },
    {
      "cell_type": "code",
      "metadata": {
        "colab": {
          "base_uri": "https://localhost:8080/"
        },
        "id": "YswNPYjxTqVz",
        "outputId": "8896ccaf-f2d4-454e-e026-72cf7ecc5406"
      },
      "source": [
        "preds = aml.predict(test)"
      ],
      "execution_count": null,
      "outputs": [
        {
          "output_type": "stream",
          "text": [
            "glm prediction progress: |████████████████████████████████████████████████| 100%\n"
          ],
          "name": "stdout"
        }
      ]
    },
    {
      "cell_type": "code",
      "metadata": {
        "id": "w3vwwqBJbLat",
        "colab": {
          "base_uri": "https://localhost:8080/",
          "height": 238
        },
        "outputId": "ab865241-732b-48cf-bac6-f1279268eb09"
      },
      "source": [
        "preds"
      ],
      "execution_count": null,
      "outputs": [
        {
          "output_type": "display_data",
          "data": {
            "text/html": [
              "<table>\n",
              "<thead>\n",
              "<tr><th>predict    </th><th style=\"text-align: right;\">  Iris-setosa</th><th style=\"text-align: right;\">  Iris-versicolor</th><th style=\"text-align: right;\">  Iris-virginica</th></tr>\n",
              "</thead>\n",
              "<tbody>\n",
              "<tr><td>Iris-setosa</td><td style=\"text-align: right;\">     0.999632</td><td style=\"text-align: right;\">      0.000368164</td><td style=\"text-align: right;\">     6.66812e-20</td></tr>\n",
              "<tr><td>Iris-setosa</td><td style=\"text-align: right;\">     0.999867</td><td style=\"text-align: right;\">      0.000133379</td><td style=\"text-align: right;\">     1.77472e-20</td></tr>\n",
              "<tr><td>Iris-setosa</td><td style=\"text-align: right;\">     0.999892</td><td style=\"text-align: right;\">      0.000108045</td><td style=\"text-align: right;\">     1.74532e-19</td></tr>\n",
              "<tr><td>Iris-setosa</td><td style=\"text-align: right;\">     0.999526</td><td style=\"text-align: right;\">      0.000473716</td><td style=\"text-align: right;\">     2.75602e-19</td></tr>\n",
              "<tr><td>Iris-setosa</td><td style=\"text-align: right;\">     0.999919</td><td style=\"text-align: right;\">      8.12367e-05</td><td style=\"text-align: right;\">     3.0883e-20 </td></tr>\n",
              "<tr><td>Iris-setosa</td><td style=\"text-align: right;\">     0.999917</td><td style=\"text-align: right;\">      8.32909e-05</td><td style=\"text-align: right;\">     1.37249e-21</td></tr>\n",
              "<tr><td>Iris-setosa</td><td style=\"text-align: right;\">     0.999986</td><td style=\"text-align: right;\">      1.35806e-05</td><td style=\"text-align: right;\">     3.36825e-22</td></tr>\n",
              "<tr><td>Iris-setosa</td><td style=\"text-align: right;\">     0.998738</td><td style=\"text-align: right;\">      0.00126233 </td><td style=\"text-align: right;\">     9.60796e-18</td></tr>\n",
              "<tr><td>Iris-setosa</td><td style=\"text-align: right;\">     0.998984</td><td style=\"text-align: right;\">      0.00101582 </td><td style=\"text-align: right;\">     2.50437e-19</td></tr>\n",
              "<tr><td>Iris-setosa</td><td style=\"text-align: right;\">     0.999261</td><td style=\"text-align: right;\">      0.000738923</td><td style=\"text-align: right;\">     3.7142e-19 </td></tr>\n",
              "</tbody>\n",
              "</table>"
            ]
          },
          "metadata": {
            "tags": []
          }
        },
        {
          "output_type": "execute_result",
          "data": {
            "text/plain": [
              ""
            ]
          },
          "metadata": {
            "tags": []
          },
          "execution_count": 12
        }
      ]
    },
    {
      "cell_type": "code",
      "metadata": {
        "colab": {
          "base_uri": "https://localhost:8080/",
          "height": 78
        },
        "id": "CvQAZt2AT3ND",
        "outputId": "e52716b3-ac98-476b-9e6b-36b72c97f718"
      },
      "source": [
        "df = test.cbind(preds)\n",
        "df.head(2)"
      ],
      "execution_count": null,
      "outputs": [
        {
          "output_type": "display_data",
          "data": {
            "text/html": [
              "<table>\n",
              "<thead>\n",
              "<tr><th style=\"text-align: right;\">  Id</th><th style=\"text-align: right;\">  SepalLengthCm</th><th style=\"text-align: right;\">  SepalWidthCm</th><th style=\"text-align: right;\">  PetalLengthCm</th><th style=\"text-align: right;\">  PetalWidthCm</th><th>Species    </th><th>predict    </th><th style=\"text-align: right;\">  Iris-setosa</th><th style=\"text-align: right;\">  Iris-versicolor</th><th style=\"text-align: right;\">  Iris-virginica</th></tr>\n",
              "</thead>\n",
              "<tbody>\n",
              "<tr><td style=\"text-align: right;\">   1</td><td style=\"text-align: right;\">            5.1</td><td style=\"text-align: right;\">           3.5</td><td style=\"text-align: right;\">            1.4</td><td style=\"text-align: right;\">           0.2</td><td>Iris-setosa</td><td>Iris-setosa</td><td style=\"text-align: right;\">     0.999632</td><td style=\"text-align: right;\">      0.000368164</td><td style=\"text-align: right;\">     6.66812e-20</td></tr>\n",
              "<tr><td style=\"text-align: right;\">   5</td><td style=\"text-align: right;\">            5  </td><td style=\"text-align: right;\">           3.6</td><td style=\"text-align: right;\">            1.4</td><td style=\"text-align: right;\">           0.2</td><td>Iris-setosa</td><td>Iris-setosa</td><td style=\"text-align: right;\">     0.999867</td><td style=\"text-align: right;\">      0.000133379</td><td style=\"text-align: right;\">     1.77472e-20</td></tr>\n",
              "</tbody>\n",
              "</table>"
            ]
          },
          "metadata": {
            "tags": []
          }
        },
        {
          "output_type": "execute_result",
          "data": {
            "text/plain": [
              ""
            ]
          },
          "metadata": {
            "tags": []
          },
          "execution_count": 13
        }
      ]
    },
    {
      "cell_type": "code",
      "metadata": {
        "colab": {
          "base_uri": "https://localhost:8080/"
        },
        "id": "d_-5U9nLT9qL",
        "outputId": "36ecfed5-16fd-4902-9079-9d3a0b41b9d8"
      },
      "source": [
        "h2o.export_file(df,'Predicted.csv')"
      ],
      "execution_count": null,
      "outputs": [
        {
          "output_type": "stream",
          "text": [
            "Export File progress: |███████████████████████████████████████████████████| 100%\n"
          ],
          "name": "stdout"
        }
      ]
    },
    {
      "cell_type": "code",
      "metadata": {
        "id": "5m1CslwsWTVs"
      },
      "source": [
        ""
      ],
      "execution_count": null,
      "outputs": []
    }
  ]
}